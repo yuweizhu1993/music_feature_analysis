{
 "cells": [
  {
   "cell_type": "code",
   "execution_count": 1,
   "metadata": {
    "scrolled": true
   },
   "outputs": [],
   "source": [
    "import pandas as pd\n",
    "import numpy as np\n",
    "import matplotlib.pyplot as plt\n",
    "import seaborn as sns\n",
    "%matplotlib inline"
   ]
  },
  {
   "cell_type": "code",
   "execution_count": 2,
   "metadata": {
    "scrolled": true
   },
   "outputs": [
    {
     "data": {
      "text/plain": [
       "[('ar', 'Argentina'),\n",
       " ('at', 'Austria'),\n",
       " ('au', 'Australia'),\n",
       " ('be', 'Belgium'),\n",
       " ('bo', 'Bolivia'),\n",
       " ('br', 'Brazil'),\n",
       " ('ca', 'Canada'),\n",
       " ('ch', 'Switzerland'),\n",
       " ('cl', 'Chile'),\n",
       " ('co', 'Colombia'),\n",
       " ('cr', 'Costa Rica'),\n",
       " ('cz', 'Czechia'),\n",
       " ('de', 'Gernmany'),\n",
       " ('dk', 'Denmark'),\n",
       " ('do', 'Dominican Republic'),\n",
       " ('ec', 'Ecuador'),\n",
       " ('ee', 'Estonia'),\n",
       " ('es', 'Spain'),\n",
       " ('fi', 'Finland'),\n",
       " ('fr', 'France'),\n",
       " ('gb', 'United Kingdom'),\n",
       " ('gr', 'Greece'),\n",
       " ('gt', 'Guatemala'),\n",
       " ('hk', 'HongKong'),\n",
       " ('hn', 'Honduras'),\n",
       " ('hu', 'Hungary'),\n",
       " ('id', 'Indonesia'),\n",
       " ('ie', 'Ireland'),\n",
       " ('il', 'Israel'),\n",
       " ('is', 'Iceland'),\n",
       " ('it', 'Italy'),\n",
       " ('jp', 'Japan'),\n",
       " ('lt', 'Lithuania'),\n",
       " ('lu', 'Luxembourg'),\n",
       " ('lv', 'Latvia'),\n",
       " ('mt', 'Malta'),\n",
       " ('mx', 'Mexico'),\n",
       " ('my', 'Malaysia'),\n",
       " ('ni', 'Nicaragua'),\n",
       " ('nl', 'Netherlands'),\n",
       " ('no', 'Norway'),\n",
       " ('nz', 'New Zealand'),\n",
       " ('pa', 'Panama'),\n",
       " ('pe', 'Peru'),\n",
       " ('ph', 'Philippines'),\n",
       " ('pl', 'Poland'),\n",
       " ('pt', 'Portugal'),\n",
       " ('py', 'Paraguay'),\n",
       " ('ro', 'Romania'),\n",
       " ('se', 'Sweden'),\n",
       " ('sg', 'Singapore'),\n",
       " ('sk', 'Slovakia'),\n",
       " ('sv', 'El Salvador'),\n",
       " ('th', 'Thailand'),\n",
       " ('tr', 'Turkey'),\n",
       " ('tw', 'Taiwan'),\n",
       " ('us', 'United States'),\n",
       " ('uy', 'Uruguay'),\n",
       " ('vn', 'Vietnam')]"
      ]
     },
     "execution_count": 2,
     "metadata": {},
     "output_type": "execute_result"
    }
   ],
   "source": [
    "mapping_df = pd.read_csv('region_mapping.csv', header=None)\n",
    "list_of_ac = mapping_df[0].tolist()\n",
    "list_of_full = mapping_df[1].tolist()\n",
    "countries = list(zip(list_of_ac, list_of_full))\n",
    "countries"
   ]
  },
  {
   "cell_type": "code",
   "execution_count": 3,
   "metadata": {},
   "outputs": [
    {
     "data": {
      "text/html": [
       "<div>\n",
       "<style scoped>\n",
       "    .dataframe tbody tr th:only-of-type {\n",
       "        vertical-align: middle;\n",
       "    }\n",
       "\n",
       "    .dataframe tbody tr th {\n",
       "        vertical-align: top;\n",
       "    }\n",
       "\n",
       "    .dataframe thead th {\n",
       "        text-align: right;\n",
       "    }\n",
       "</style>\n",
       "<table border=\"1\" class=\"dataframe\">\n",
       "  <thead>\n",
       "    <tr style=\"text-align: right;\">\n",
       "      <th></th>\n",
       "      <th>Name</th>\n",
       "      <th>Country</th>\n",
       "    </tr>\n",
       "  </thead>\n",
       "  <tbody>\n",
       "    <tr>\n",
       "      <th>0</th>\n",
       "      <td>Me Gusta</td>\n",
       "      <td>Argentina</td>\n",
       "    </tr>\n",
       "    <tr>\n",
       "      <th>1</th>\n",
       "      <td>Spaghetti del Rock</td>\n",
       "      <td>Argentina</td>\n",
       "    </tr>\n",
       "    <tr>\n",
       "      <th>2</th>\n",
       "      <td>Creo</td>\n",
       "      <td>Argentina</td>\n",
       "    </tr>\n",
       "    <tr>\n",
       "      <th>3</th>\n",
       "      <td>Crimen</td>\n",
       "      <td>Argentina</td>\n",
       "    </tr>\n",
       "    <tr>\n",
       "      <th>4</th>\n",
       "      <td>Track Name</td>\n",
       "      <td>Argentina</td>\n",
       "    </tr>\n",
       "    <tr>\n",
       "      <th>...</th>\n",
       "      <td>...</td>\n",
       "      <td>...</td>\n",
       "    </tr>\n",
       "    <tr>\n",
       "      <th>95</th>\n",
       "      <td>Way Back Home</td>\n",
       "      <td>Vietnam</td>\n",
       "    </tr>\n",
       "    <tr>\n",
       "      <th>96</th>\n",
       "      <td>Better Now</td>\n",
       "      <td>Vietnam</td>\n",
       "    </tr>\n",
       "    <tr>\n",
       "      <th>97</th>\n",
       "      <td>Mượn Rượu Tỏ Tình</td>\n",
       "      <td>Vietnam</td>\n",
       "    </tr>\n",
       "    <tr>\n",
       "      <th>98</th>\n",
       "      <td>DDU-DU DDU-DU</td>\n",
       "      <td>Vietnam</td>\n",
       "    </tr>\n",
       "    <tr>\n",
       "      <th>99</th>\n",
       "      <td>Believer</td>\n",
       "      <td>Vietnam</td>\n",
       "    </tr>\n",
       "  </tbody>\n",
       "</table>\n",
       "<p>5884 rows × 2 columns</p>\n",
       "</div>"
      ],
      "text/plain": [
       "                  Name    Country\n",
       "0             Me Gusta  Argentina\n",
       "1   Spaghetti del Rock  Argentina\n",
       "2                 Creo  Argentina\n",
       "3               Crimen  Argentina\n",
       "4           Track Name  Argentina\n",
       "..                 ...        ...\n",
       "95       Way Back Home    Vietnam\n",
       "96          Better Now    Vietnam\n",
       "97   Mượn Rượu Tỏ Tình    Vietnam\n",
       "98       DDU-DU DDU-DU    Vietnam\n",
       "99            Believer    Vietnam\n",
       "\n",
       "[5884 rows x 2 columns]"
      ]
     },
     "execution_count": 3,
     "metadata": {},
     "output_type": "execute_result"
    }
   ],
   "source": [
    "df = pd.DataFrame()\n",
    "for country in countries:\n",
    "    file_name = 'data/' + country[0] + '.csv'\n",
    "    temp = pd.read_csv(file_name)\n",
    "    famous_song_series = temp['Track Name'].value_counts()[:100]\n",
    "    famous_song_df = pd.DataFrame({'Name': famous_song_series.index, 'Country': country[1]})\n",
    "    df = df.append(famous_song_df)\n",
    "df"
   ]
  },
  {
   "cell_type": "code",
   "execution_count": 4,
   "metadata": {},
   "outputs": [
    {
     "data": {
      "text/html": [
       "<div>\n",
       "<style scoped>\n",
       "    .dataframe tbody tr th:only-of-type {\n",
       "        vertical-align: middle;\n",
       "    }\n",
       "\n",
       "    .dataframe tbody tr th {\n",
       "        vertical-align: top;\n",
       "    }\n",
       "\n",
       "    .dataframe thead th {\n",
       "        text-align: right;\n",
       "    }\n",
       "</style>\n",
       "<table border=\"1\" class=\"dataframe\">\n",
       "  <thead>\n",
       "    <tr style=\"text-align: right;\">\n",
       "      <th></th>\n",
       "      <th>Name</th>\n",
       "      <th>Country</th>\n",
       "    </tr>\n",
       "  </thead>\n",
       "  <tbody>\n",
       "    <tr>\n",
       "      <th>0</th>\n",
       "      <td>Crimen</td>\n",
       "      <td>Argentina</td>\n",
       "    </tr>\n",
       "    <tr>\n",
       "      <th>1</th>\n",
       "      <td>Creo</td>\n",
       "      <td>Argentina</td>\n",
       "    </tr>\n",
       "    <tr>\n",
       "      <th>2</th>\n",
       "      <td>Spaghetti del Rock</td>\n",
       "      <td>Argentina</td>\n",
       "    </tr>\n",
       "    <tr>\n",
       "      <th>3</th>\n",
       "      <td>Nunca quise</td>\n",
       "      <td>Argentina</td>\n",
       "    </tr>\n",
       "    <tr>\n",
       "      <th>4</th>\n",
       "      <td>Me Gusta</td>\n",
       "      <td>Argentina</td>\n",
       "    </tr>\n",
       "    <tr>\n",
       "      <th>...</th>\n",
       "      <td>...</td>\n",
       "      <td>...</td>\n",
       "    </tr>\n",
       "    <tr>\n",
       "      <th>95</th>\n",
       "      <td>DDU-DU DDU-DU</td>\n",
       "      <td>Vietnam</td>\n",
       "    </tr>\n",
       "    <tr>\n",
       "      <th>96</th>\n",
       "      <td>Someone You Loved</td>\n",
       "      <td>Vietnam</td>\n",
       "    </tr>\n",
       "    <tr>\n",
       "      <th>97</th>\n",
       "      <td>Believer</td>\n",
       "      <td>Vietnam</td>\n",
       "    </tr>\n",
       "    <tr>\n",
       "      <th>98</th>\n",
       "      <td>Mượn Rượu Tỏ Tình</td>\n",
       "      <td>Vietnam</td>\n",
       "    </tr>\n",
       "    <tr>\n",
       "      <th>99</th>\n",
       "      <td>Sucker</td>\n",
       "      <td>Vietnam</td>\n",
       "    </tr>\n",
       "  </tbody>\n",
       "</table>\n",
       "<p>5883 rows × 2 columns</p>\n",
       "</div>"
      ],
      "text/plain": [
       "                  Name    Country\n",
       "0               Crimen  Argentina\n",
       "1                 Creo  Argentina\n",
       "2   Spaghetti del Rock  Argentina\n",
       "3          Nunca quise  Argentina\n",
       "4             Me Gusta  Argentina\n",
       "..                 ...        ...\n",
       "95       DDU-DU DDU-DU    Vietnam\n",
       "96   Someone You Loved    Vietnam\n",
       "97            Believer    Vietnam\n",
       "98   Mượn Rượu Tỏ Tình    Vietnam\n",
       "99              Sucker    Vietnam\n",
       "\n",
       "[5883 rows x 2 columns]"
      ]
     },
     "execution_count": 4,
     "metadata": {},
     "output_type": "execute_result"
    }
   ],
   "source": [
    "df_rank = pd.DataFrame()\n",
    "for country in countries:\n",
    "    file_name = 'total_rank_data/' + country[0] + '.csv'\n",
    "    temp = pd.read_csv(file_name)\n",
    "    famous_song_series = temp['Track Name'][:100]\n",
    "    famous_song_df = pd.DataFrame({'Name': famous_song_series, 'Country': country[1]})\n",
    "    df_rank = df_rank.append(famous_song_df)\n",
    "df_rank"
   ]
  },
  {
   "cell_type": "code",
   "execution_count": 5,
   "metadata": {},
   "outputs": [
    {
     "data": {
      "text/html": [
       "<div>\n",
       "<style scoped>\n",
       "    .dataframe tbody tr th:only-of-type {\n",
       "        vertical-align: middle;\n",
       "    }\n",
       "\n",
       "    .dataframe tbody tr th {\n",
       "        vertical-align: top;\n",
       "    }\n",
       "\n",
       "    .dataframe thead th {\n",
       "        text-align: right;\n",
       "    }\n",
       "</style>\n",
       "<table border=\"1\" class=\"dataframe\">\n",
       "  <thead>\n",
       "    <tr style=\"text-align: right;\">\n",
       "      <th></th>\n",
       "      <th>Argentina</th>\n",
       "      <th>Austria</th>\n",
       "      <th>Australia</th>\n",
       "      <th>Belgium</th>\n",
       "      <th>Bolivia</th>\n",
       "      <th>Brazil</th>\n",
       "      <th>Canada</th>\n",
       "      <th>Switzerland</th>\n",
       "      <th>Chile</th>\n",
       "      <th>Colombia</th>\n",
       "      <th>...</th>\n",
       "      <th>Sweden</th>\n",
       "      <th>Singapore</th>\n",
       "      <th>Slovakia</th>\n",
       "      <th>El Salvador</th>\n",
       "      <th>Thailand</th>\n",
       "      <th>Turkey</th>\n",
       "      <th>Taiwan</th>\n",
       "      <th>United States</th>\n",
       "      <th>Uruguay</th>\n",
       "      <th>Vietnam</th>\n",
       "    </tr>\n",
       "  </thead>\n",
       "  <tbody>\n",
       "  </tbody>\n",
       "</table>\n",
       "<p>0 rows × 59 columns</p>\n",
       "</div>"
      ],
      "text/plain": [
       "Empty DataFrame\n",
       "Columns: [Argentina, Austria, Australia, Belgium, Bolivia, Brazil, Canada, Switzerland, Chile, Colombia, Costa Rica, Czechia, Gernmany, Denmark, Dominican Republic, Ecuador, Estonia, Spain, Finland, France, United Kingdom, Greece, Guatemala, HongKong, Honduras, Hungary, Indonesia, Ireland, Israel, Iceland, Italy, Japan, Lithuania, Luxembourg, Latvia, Malta, Mexico, Malaysia, Nicaragua, Netherlands, Norway, New Zealand, Panama, Peru, Philippines, Poland, Portugal, Paraguay, Romania, Sweden, Singapore, Slovakia, El Salvador, Thailand, Turkey, Taiwan, United States, Uruguay, Vietnam]\n",
       "Index: []\n",
       "\n",
       "[0 rows x 59 columns]"
      ]
     },
     "execution_count": 5,
     "metadata": {},
     "output_type": "execute_result"
    }
   ],
   "source": [
    "country_matrix_rank = pd.DataFrame(columns=[country[1] for country in countries])\n",
    "country_matrix_rank"
   ]
  },
  {
   "cell_type": "code",
   "execution_count": 6,
   "metadata": {
    "scrolled": true
   },
   "outputs": [
    {
     "ename": "NameError",
     "evalue": "name 'country_matrix' is not defined",
     "output_type": "error",
     "traceback": [
      "\u001b[0;31m---------------------------------------------------------------------------\u001b[0m",
      "\u001b[0;31mNameError\u001b[0m                                 Traceback (most recent call last)",
      "\u001b[0;32m<ipython-input-6-0c879426130b>\u001b[0m in \u001b[0;36m<module>\u001b[0;34m\u001b[0m\n\u001b[1;32m      2\u001b[0m     \u001b[0mscore_list\u001b[0m \u001b[0;34m=\u001b[0m \u001b[0;34m[\u001b[0m\u001b[0;34m]\u001b[0m\u001b[0;34m\u001b[0m\u001b[0;34m\u001b[0m\u001b[0m\n\u001b[1;32m      3\u001b[0m     \u001b[0mcurrent_temp\u001b[0m \u001b[0;34m=\u001b[0m \u001b[0mdf_rank\u001b[0m\u001b[0;34m[\u001b[0m\u001b[0mdf_rank\u001b[0m\u001b[0;34m[\u001b[0m\u001b[0;34m'Country'\u001b[0m\u001b[0;34m]\u001b[0m \u001b[0;34m==\u001b[0m \u001b[0mcountry\u001b[0m\u001b[0;34m[\u001b[0m\u001b[0;36m1\u001b[0m\u001b[0;34m]\u001b[0m\u001b[0;34m]\u001b[0m\u001b[0;34m\u001b[0m\u001b[0;34m\u001b[0m\u001b[0m\n\u001b[0;32m----> 4\u001b[0;31m     \u001b[0;32mfor\u001b[0m \u001b[0mcounterparty\u001b[0m \u001b[0;32min\u001b[0m \u001b[0mcountry_matrix\u001b[0m\u001b[0;34m.\u001b[0m\u001b[0miteritems\u001b[0m\u001b[0;34m(\u001b[0m\u001b[0;34m)\u001b[0m\u001b[0;34m:\u001b[0m\u001b[0;34m\u001b[0m\u001b[0;34m\u001b[0m\u001b[0m\n\u001b[0m\u001b[1;32m      5\u001b[0m         \u001b[0mcounterparty_temp\u001b[0m \u001b[0;34m=\u001b[0m \u001b[0mdf_rank\u001b[0m\u001b[0;34m[\u001b[0m\u001b[0mdf_rank\u001b[0m\u001b[0;34m[\u001b[0m\u001b[0;34m'Country'\u001b[0m\u001b[0;34m]\u001b[0m \u001b[0;34m==\u001b[0m \u001b[0mcounterparty\u001b[0m\u001b[0;34m[\u001b[0m\u001b[0;36m0\u001b[0m\u001b[0;34m]\u001b[0m\u001b[0;34m]\u001b[0m\u001b[0;34m\u001b[0m\u001b[0;34m\u001b[0m\u001b[0m\n\u001b[1;32m      6\u001b[0m         \u001b[0mtemp\u001b[0m \u001b[0;34m=\u001b[0m \u001b[0mcounterparty_temp\u001b[0m\u001b[0;34m.\u001b[0m\u001b[0mmerge\u001b[0m\u001b[0;34m(\u001b[0m\u001b[0mcurrent_temp\u001b[0m\u001b[0;34m,\u001b[0m \u001b[0mleft_on\u001b[0m\u001b[0;34m=\u001b[0m\u001b[0;34m'Name'\u001b[0m\u001b[0;34m,\u001b[0m \u001b[0mright_on\u001b[0m\u001b[0;34m=\u001b[0m\u001b[0;34m'Name'\u001b[0m\u001b[0;34m)\u001b[0m\u001b[0;34m\u001b[0m\u001b[0;34m\u001b[0m\u001b[0m\n",
      "\u001b[0;31mNameError\u001b[0m: name 'country_matrix' is not defined"
     ]
    }
   ],
   "source": [
    "for country in countries:\n",
    "    score_list = []\n",
    "    current_temp = df_rank[df_rank['Country'] == country[1]]\n",
    "    for counterparty in country_matrix.iteritems():\n",
    "        counterparty_temp = df_rank[df_rank['Country'] == counterparty[0]]\n",
    "        temp = counterparty_temp.merge(current_temp, left_on='Name', right_on='Name')\n",
    "        score_list.append(len(temp)/len(current_temp))\n",
    "    country_matrix_rank.loc[country[1]] = score_list\n",
    "country_matrix_rank"
   ]
  },
  {
   "cell_type": "code",
   "execution_count": 23,
   "metadata": {},
   "outputs": [
    {
     "data": {
      "text/plain": [
       "<matplotlib.axes._subplots.AxesSubplot at 0x10fe1b748>"
      ]
     },
     "execution_count": 23,
     "metadata": {},
     "output_type": "execute_result"
    },
    {
     "data": {
      "image/png": "[encoded data removed]",
      "text/plain": [
       "<Figure size 1080x936 with 2 Axes>"
      ]
     },
     "metadata": {
      "needs_background": "light"
     },
     "output_type": "display_data"
    }
   ],
   "source": [
    "plt.figure(figsize = (15,13))\n",
    "sns.heatmap(country_matrix_rank)"
   ]
  },
  {
   "cell_type": "code",
   "execution_count": null,
   "metadata": {},
   "outputs": [],
   "source": []
  },
  {
   "cell_type": "code",
   "execution_count": null,
   "metadata": {},
   "outputs": [],
   "source": []
  },
  {
   "cell_type": "code",
   "execution_count": 7,
   "metadata": {
    "collapsed": true
   },
   "outputs": [
    {
     "ename": "NameError",
     "evalue": "name 'country_matrix' is not defined",
     "output_type": "error",
     "traceback": [
      "\u001b[0;31m---------------------------------------------------------------------------\u001b[0m",
      "\u001b[0;31mNameError\u001b[0m                                 Traceback (most recent call last)",
      "\u001b[0;32m<ipython-input-7-61d7fae843eb>\u001b[0m in \u001b[0;36m<module>\u001b[0;34m\u001b[0m\n\u001b[1;32m      2\u001b[0m     \u001b[0mscore_list\u001b[0m \u001b[0;34m=\u001b[0m \u001b[0;34m[\u001b[0m\u001b[0;34m]\u001b[0m\u001b[0;34m\u001b[0m\u001b[0;34m\u001b[0m\u001b[0m\n\u001b[1;32m      3\u001b[0m     \u001b[0mcurrent_temp\u001b[0m \u001b[0;34m=\u001b[0m \u001b[0mdf\u001b[0m\u001b[0;34m[\u001b[0m\u001b[0mdf\u001b[0m\u001b[0;34m[\u001b[0m\u001b[0;34m'Country'\u001b[0m\u001b[0;34m]\u001b[0m \u001b[0;34m==\u001b[0m \u001b[0mcountry\u001b[0m\u001b[0;34m[\u001b[0m\u001b[0;36m1\u001b[0m\u001b[0;34m]\u001b[0m\u001b[0;34m]\u001b[0m\u001b[0;34m\u001b[0m\u001b[0;34m\u001b[0m\u001b[0m\n\u001b[0;32m----> 4\u001b[0;31m     \u001b[0;32mfor\u001b[0m \u001b[0mcounterparty\u001b[0m \u001b[0;32min\u001b[0m \u001b[0mcountry_matrix\u001b[0m\u001b[0;34m.\u001b[0m\u001b[0miteritems\u001b[0m\u001b[0;34m(\u001b[0m\u001b[0;34m)\u001b[0m\u001b[0;34m:\u001b[0m\u001b[0;34m\u001b[0m\u001b[0;34m\u001b[0m\u001b[0m\n\u001b[0m\u001b[1;32m      5\u001b[0m         \u001b[0mcounterparty_temp\u001b[0m \u001b[0;34m=\u001b[0m \u001b[0mdf\u001b[0m\u001b[0;34m[\u001b[0m\u001b[0mdf\u001b[0m\u001b[0;34m[\u001b[0m\u001b[0;34m'Country'\u001b[0m\u001b[0;34m]\u001b[0m \u001b[0;34m==\u001b[0m \u001b[0mcounterparty\u001b[0m\u001b[0;34m[\u001b[0m\u001b[0;36m0\u001b[0m\u001b[0;34m]\u001b[0m\u001b[0;34m]\u001b[0m\u001b[0;34m\u001b[0m\u001b[0;34m\u001b[0m\u001b[0m\n\u001b[1;32m      6\u001b[0m         \u001b[0mtemp\u001b[0m \u001b[0;34m=\u001b[0m \u001b[0mcounterparty_temp\u001b[0m\u001b[0;34m.\u001b[0m\u001b[0mmerge\u001b[0m\u001b[0;34m(\u001b[0m\u001b[0mcurrent_temp\u001b[0m\u001b[0;34m,\u001b[0m \u001b[0mleft_on\u001b[0m\u001b[0;34m=\u001b[0m\u001b[0;34m'Name'\u001b[0m\u001b[0;34m,\u001b[0m \u001b[0mright_on\u001b[0m\u001b[0;34m=\u001b[0m\u001b[0;34m'Name'\u001b[0m\u001b[0;34m)\u001b[0m\u001b[0;34m\u001b[0m\u001b[0;34m\u001b[0m\u001b[0m\n",
      "\u001b[0;31mNameError\u001b[0m: name 'country_matrix' is not defined"
     ]
    }
   ],
   "source": [
    "for country in countries:\n",
    "    score_list = []\n",
    "    current_temp = df[df['Country'] == country[1]]\n",
    "    for counterparty in country_matrix.iteritems():\n",
    "        counterparty_temp = df[df['Country'] == counterparty[0]]\n",
    "        temp = counterparty_temp.merge(current_temp, left_on='Name', right_on='Name')\n",
    "        score_list.append(len(temp)/len(current_temp))\n",
    "    country_matrix.loc[country[1]] = score_list\n",
    "country_matrix"
   ]
  },
  {
   "cell_type": "code",
   "execution_count": 25,
   "metadata": {
    "scrolled": false
   },
   "outputs": [
    {
     "data": {
      "text/plain": [
       "<matplotlib.axes._subplots.AxesSubplot at 0x121121208>"
      ]
     },
     "execution_count": 25,
     "metadata": {},
     "output_type": "execute_result"
    },
    {
     "data": {
      "image/png": "[encoded data removed]",
      "text/plain": [
       "<Figure size 1080x936 with 2 Axes>"
      ]
     },
     "metadata": {
      "needs_background": "light"
     },
     "output_type": "display_data"
    }
   ],
   "source": [
    "plt.figure(figsize = (15,13))\n",
    "sns.heatmap(country_matrix)"
   ]
  },
  {
   "cell_type": "code",
   "execution_count": 31,
   "metadata": {
    "scrolled": true
   },
   "outputs": [
    {
     "data": {
      "text/plain": [
       "Argentina             0.110000\n",
       "Austria               0.570000\n",
       "Australia             0.550000\n",
       "Belgium               1.000000\n",
       "Bolivia               0.120000\n",
       "Brazil                0.130000\n",
       "Canada                0.460000\n",
       "Switzerland           0.700000\n",
       "Chile                 0.110000\n",
       "Colombia              0.140000\n",
       "Costa Rica            0.260000\n",
       "Czechia               0.630000\n",
       "Gernmany              0.500000\n",
       "Denmark               0.430000\n",
       "Dominican Republic    0.140000\n",
       "Ecuador               0.130000\n",
       "Estonia               0.480000\n",
       "Spain                 0.180000\n",
       "Finland               0.310000\n",
       "France                0.240000\n",
       "United Kingdom        0.500000\n",
       "Greece                0.470000\n",
       "Guatemala             0.170000\n",
       "HongKong              0.210000\n",
       "Honduras              0.220000\n",
       "Hungary               0.610000\n",
       "Indonesia             0.230000\n",
       "Ireland               0.560000\n",
       "Israel                0.370000\n",
       "Iceland               0.330000\n",
       "Italy                 0.190000\n",
       "Japan                 0.150000\n",
       "Lithuania             0.510000\n",
       "Luxembourg            0.404762\n",
       "Latvia                0.460000\n",
       "Malta                 0.360000\n",
       "Mexico                0.150000\n",
       "Malaysia              0.380000\n",
       "Nicaragua             0.090000\n",
       "Netherlands           0.500000\n",
       "Norway                0.450000\n",
       "New Zealand           0.520000\n",
       "Panama                0.150000\n",
       "Peru                  0.070000\n",
       "Philippines           0.160000\n",
       "Poland                0.390000\n",
       "Portugal              0.490000\n",
       "Paraguay              0.120000\n",
       "Romania               0.430000\n",
       "Sweden                0.500000\n",
       "Singapore             0.380000\n",
       "Slovakia              0.540000\n",
       "El Salvador           0.210000\n",
       "Thailand              0.210000\n",
       "Turkey                0.110000\n",
       "Taiwan                0.230000\n",
       "United States         0.320000\n",
       "Uruguay               0.110000\n",
       "Vietnam               0.320000\n",
       "Name: Belgium, dtype: float64"
      ]
     },
     "execution_count": 31,
     "metadata": {},
     "output_type": "execute_result"
    }
   ],
   "source": [
    "country_matrix['Belgium']"
   ]
  },
  {
   "cell_type": "code",
   "execution_count": 33,
   "metadata": {
    "scrolled": true
   },
   "outputs": [
    {
     "data": {
      "text/html": [
       "<div>\n",
       "<style scoped>\n",
       "    .dataframe tbody tr th:only-of-type {\n",
       "        vertical-align: middle;\n",
       "    }\n",
       "\n",
       "    .dataframe tbody tr th {\n",
       "        vertical-align: top;\n",
       "    }\n",
       "\n",
       "    .dataframe thead th {\n",
       "        text-align: right;\n",
       "    }\n",
       "</style>\n",
       "<table border=\"1\" class=\"dataframe\">\n",
       "  <thead>\n",
       "    <tr style=\"text-align: right;\">\n",
       "      <th></th>\n",
       "      <th>Name</th>\n",
       "      <th>Country</th>\n",
       "    </tr>\n",
       "  </thead>\n",
       "  <tbody>\n",
       "    <tr>\n",
       "      <th>0</th>\n",
       "      <td>Shape of You</td>\n",
       "      <td>Luxembourg</td>\n",
       "    </tr>\n",
       "    <tr>\n",
       "      <th>1</th>\n",
       "      <td>Track Name</td>\n",
       "      <td>Luxembourg</td>\n",
       "    </tr>\n",
       "    <tr>\n",
       "      <th>2</th>\n",
       "      <td>Despacito (Featuring Daddy Yankee)</td>\n",
       "      <td>Luxembourg</td>\n",
       "    </tr>\n",
       "    <tr>\n",
       "      <th>3</th>\n",
       "      <td>Something Just Like This</td>\n",
       "      <td>Luxembourg</td>\n",
       "    </tr>\n",
       "    <tr>\n",
       "      <th>4</th>\n",
       "      <td>Mask Off</td>\n",
       "      <td>Luxembourg</td>\n",
       "    </tr>\n",
       "    <tr>\n",
       "      <th>...</th>\n",
       "      <td>...</td>\n",
       "      <td>...</td>\n",
       "    </tr>\n",
       "    <tr>\n",
       "      <th>79</th>\n",
       "      <td>How Would You Feel (Paean)</td>\n",
       "      <td>Luxembourg</td>\n",
       "    </tr>\n",
       "    <tr>\n",
       "      <th>80</th>\n",
       "      <td>Let Me Love You</td>\n",
       "      <td>Luxembourg</td>\n",
       "    </tr>\n",
       "    <tr>\n",
       "      <th>81</th>\n",
       "      <td>Selfish (feat. Rihanna)</td>\n",
       "      <td>Luxembourg</td>\n",
       "    </tr>\n",
       "    <tr>\n",
       "      <th>82</th>\n",
       "      <td>The One</td>\n",
       "      <td>Luxembourg</td>\n",
       "    </tr>\n",
       "    <tr>\n",
       "      <th>83</th>\n",
       "      <td>Portland</td>\n",
       "      <td>Luxembourg</td>\n",
       "    </tr>\n",
       "  </tbody>\n",
       "</table>\n",
       "<p>84 rows × 2 columns</p>\n",
       "</div>"
      ],
      "text/plain": [
       "                                  Name     Country\n",
       "0                         Shape of You  Luxembourg\n",
       "1                           Track Name  Luxembourg\n",
       "2   Despacito (Featuring Daddy Yankee)  Luxembourg\n",
       "3             Something Just Like This  Luxembourg\n",
       "4                             Mask Off  Luxembourg\n",
       "..                                 ...         ...\n",
       "79          How Would You Feel (Paean)  Luxembourg\n",
       "80                     Let Me Love You  Luxembourg\n",
       "81             Selfish (feat. Rihanna)  Luxembourg\n",
       "82                             The One  Luxembourg\n",
       "83                            Portland  Luxembourg\n",
       "\n",
       "[84 rows x 2 columns]"
      ]
     },
     "execution_count": 33,
     "metadata": {},
     "output_type": "execute_result"
    }
   ],
   "source": [
    "df[df['Country'] == 'Luxembourg']"
   ]
  },
  {
   "cell_type": "code",
   "execution_count": null,
   "metadata": {},
   "outputs": [],
   "source": []
  },
  {
   "cell_type": "markdown",
   "metadata": {},
   "source": [
    "df_rank.head(10)"
   ]
  },
  {
   "cell_type": "markdown",
   "metadata": {},
   "source": [
    "# Clustering"
   ]
  },
  {
   "cell_type": "code",
   "execution_count": 8,
   "metadata": {},
   "outputs": [],
   "source": [
    "# label encoding\n",
    "from sklearn import preprocessing\n",
    "le = preprocessing.LabelEncoder()"
   ]
  },
  {
   "cell_type": "code",
   "execution_count": 9,
   "metadata": {},
   "outputs": [
    {
     "data": {
      "text/plain": [
       "LabelEncoder()"
      ]
     },
     "execution_count": 9,
     "metadata": {},
     "output_type": "execute_result"
    }
   ],
   "source": [
    "le.fit(list(df_rank['Name']))"
   ]
  },
  {
   "cell_type": "code",
   "execution_count": 10,
   "metadata": {},
   "outputs": [],
   "source": [
    "df_rank['Label Encoder'] = le.transform(df_rank['Name'])"
   ]
  },
  {
   "cell_type": "code",
   "execution_count": 11,
   "metadata": {},
   "outputs": [
    {
     "data": {
      "text/html": [
       "<div>\n",
       "<style scoped>\n",
       "    .dataframe tbody tr th:only-of-type {\n",
       "        vertical-align: middle;\n",
       "    }\n",
       "\n",
       "    .dataframe tbody tr th {\n",
       "        vertical-align: top;\n",
       "    }\n",
       "\n",
       "    .dataframe thead th {\n",
       "        text-align: right;\n",
       "    }\n",
       "</style>\n",
       "<table border=\"1\" class=\"dataframe\">\n",
       "  <thead>\n",
       "    <tr style=\"text-align: right;\">\n",
       "      <th></th>\n",
       "      <th>Name</th>\n",
       "      <th>Country</th>\n",
       "      <th>Label Encoder</th>\n",
       "    </tr>\n",
       "  </thead>\n",
       "  <tbody>\n",
       "    <tr>\n",
       "      <th>0</th>\n",
       "      <td>Crimen</td>\n",
       "      <td>Argentina</td>\n",
       "      <td>353</td>\n",
       "    </tr>\n",
       "    <tr>\n",
       "      <th>1</th>\n",
       "      <td>Creo</td>\n",
       "      <td>Argentina</td>\n",
       "      <td>351</td>\n",
       "    </tr>\n",
       "    <tr>\n",
       "      <th>2</th>\n",
       "      <td>Spaghetti del Rock</td>\n",
       "      <td>Argentina</td>\n",
       "      <td>1505</td>\n",
       "    </tr>\n",
       "    <tr>\n",
       "      <th>3</th>\n",
       "      <td>Nunca quise</td>\n",
       "      <td>Argentina</td>\n",
       "      <td>1146</td>\n",
       "    </tr>\n",
       "    <tr>\n",
       "      <th>4</th>\n",
       "      <td>Me Gusta</td>\n",
       "      <td>Argentina</td>\n",
       "      <td>984</td>\n",
       "    </tr>\n",
       "  </tbody>\n",
       "</table>\n",
       "</div>"
      ],
      "text/plain": [
       "                 Name    Country  Label Encoder\n",
       "0              Crimen  Argentina            353\n",
       "1                Creo  Argentina            351\n",
       "2  Spaghetti del Rock  Argentina           1505\n",
       "3         Nunca quise  Argentina           1146\n",
       "4            Me Gusta  Argentina            984"
      ]
     },
     "execution_count": 11,
     "metadata": {},
     "output_type": "execute_result"
    }
   ],
   "source": [
    "df_rank.head()"
   ]
  },
  {
   "cell_type": "code",
   "execution_count": 12,
   "metadata": {},
   "outputs": [],
   "source": [
    "from sklearn.preprocessing import OneHotEncoder\n",
    "enc = OneHotEncoder(handle_unknown='ignore')"
   ]
  },
  {
   "cell_type": "code",
   "execution_count": 13,
   "metadata": {
    "scrolled": true
   },
   "outputs": [],
   "source": [
    "ohe_features = enc.fit_transform(np.array(df_rank['Name']).reshape(-1,1)).toarray()"
   ]
  },
  {
   "cell_type": "code",
   "execution_count": 14,
   "metadata": {},
   "outputs": [],
   "source": [
    "df_ohe = pd.DataFrame(ohe_features)"
   ]
  },
  {
   "cell_type": "code",
   "execution_count": 15,
   "metadata": {
    "scrolled": true
   },
   "outputs": [],
   "source": [
    "df_ohe['Country'] = df_rank.reset_index()['Country']"
   ]
  },
  {
   "cell_type": "code",
   "execution_count": 16,
   "metadata": {},
   "outputs": [],
   "source": [
    "# sum ohe features by country\n",
    "df_ohe = df_ohe.groupby('Country').sum()"
   ]
  },
  {
   "cell_type": "code",
   "execution_count": 17,
   "metadata": {
    "scrolled": true
   },
   "outputs": [
    {
     "data": {
      "text/html": [
       "<div>\n",
       "<style scoped>\n",
       "    .dataframe tbody tr th:only-of-type {\n",
       "        vertical-align: middle;\n",
       "    }\n",
       "\n",
       "    .dataframe tbody tr th {\n",
       "        vertical-align: top;\n",
       "    }\n",
       "\n",
       "    .dataframe thead th {\n",
       "        text-align: right;\n",
       "    }\n",
       "</style>\n",
       "<table border=\"1\" class=\"dataframe\">\n",
       "  <thead>\n",
       "    <tr style=\"text-align: right;\">\n",
       "      <th></th>\n",
       "      <th>0</th>\n",
       "      <th>1</th>\n",
       "      <th>2</th>\n",
       "      <th>3</th>\n",
       "      <th>4</th>\n",
       "      <th>5</th>\n",
       "      <th>6</th>\n",
       "      <th>7</th>\n",
       "      <th>8</th>\n",
       "      <th>9</th>\n",
       "      <th>...</th>\n",
       "      <th>2129</th>\n",
       "      <th>2130</th>\n",
       "      <th>2131</th>\n",
       "      <th>2132</th>\n",
       "      <th>2133</th>\n",
       "      <th>2134</th>\n",
       "      <th>2135</th>\n",
       "      <th>2136</th>\n",
       "      <th>2137</th>\n",
       "      <th>2138</th>\n",
       "    </tr>\n",
       "    <tr>\n",
       "      <th>Country</th>\n",
       "      <th></th>\n",
       "      <th></th>\n",
       "      <th></th>\n",
       "      <th></th>\n",
       "      <th></th>\n",
       "      <th></th>\n",
       "      <th></th>\n",
       "      <th></th>\n",
       "      <th></th>\n",
       "      <th></th>\n",
       "      <th></th>\n",
       "      <th></th>\n",
       "      <th></th>\n",
       "      <th></th>\n",
       "      <th></th>\n",
       "      <th></th>\n",
       "      <th></th>\n",
       "      <th></th>\n",
       "      <th></th>\n",
       "      <th></th>\n",
       "      <th></th>\n",
       "    </tr>\n",
       "  </thead>\n",
       "  <tbody>\n",
       "    <tr>\n",
       "      <th>Argentina</th>\n",
       "      <td>0.0</td>\n",
       "      <td>0.0</td>\n",
       "      <td>0.0</td>\n",
       "      <td>0.0</td>\n",
       "      <td>0.0</td>\n",
       "      <td>0.0</td>\n",
       "      <td>0.0</td>\n",
       "      <td>1.0</td>\n",
       "      <td>0.0</td>\n",
       "      <td>0.0</td>\n",
       "      <td>...</td>\n",
       "      <td>0.0</td>\n",
       "      <td>0.0</td>\n",
       "      <td>0.0</td>\n",
       "      <td>0.0</td>\n",
       "      <td>0.0</td>\n",
       "      <td>0.0</td>\n",
       "      <td>0.0</td>\n",
       "      <td>0.0</td>\n",
       "      <td>0.0</td>\n",
       "      <td>0.0</td>\n",
       "    </tr>\n",
       "    <tr>\n",
       "      <th>Australia</th>\n",
       "      <td>0.0</td>\n",
       "      <td>0.0</td>\n",
       "      <td>0.0</td>\n",
       "      <td>0.0</td>\n",
       "      <td>0.0</td>\n",
       "      <td>0.0</td>\n",
       "      <td>0.0</td>\n",
       "      <td>0.0</td>\n",
       "      <td>1.0</td>\n",
       "      <td>0.0</td>\n",
       "      <td>...</td>\n",
       "      <td>0.0</td>\n",
       "      <td>0.0</td>\n",
       "      <td>0.0</td>\n",
       "      <td>0.0</td>\n",
       "      <td>0.0</td>\n",
       "      <td>0.0</td>\n",
       "      <td>0.0</td>\n",
       "      <td>0.0</td>\n",
       "      <td>0.0</td>\n",
       "      <td>0.0</td>\n",
       "    </tr>\n",
       "    <tr>\n",
       "      <th>Austria</th>\n",
       "      <td>0.0</td>\n",
       "      <td>0.0</td>\n",
       "      <td>1.0</td>\n",
       "      <td>0.0</td>\n",
       "      <td>0.0</td>\n",
       "      <td>0.0</td>\n",
       "      <td>0.0</td>\n",
       "      <td>0.0</td>\n",
       "      <td>0.0</td>\n",
       "      <td>0.0</td>\n",
       "      <td>...</td>\n",
       "      <td>0.0</td>\n",
       "      <td>0.0</td>\n",
       "      <td>0.0</td>\n",
       "      <td>0.0</td>\n",
       "      <td>0.0</td>\n",
       "      <td>0.0</td>\n",
       "      <td>0.0</td>\n",
       "      <td>0.0</td>\n",
       "      <td>0.0</td>\n",
       "      <td>0.0</td>\n",
       "    </tr>\n",
       "    <tr>\n",
       "      <th>Belgium</th>\n",
       "      <td>0.0</td>\n",
       "      <td>0.0</td>\n",
       "      <td>0.0</td>\n",
       "      <td>0.0</td>\n",
       "      <td>0.0</td>\n",
       "      <td>0.0</td>\n",
       "      <td>0.0</td>\n",
       "      <td>0.0</td>\n",
       "      <td>0.0</td>\n",
       "      <td>0.0</td>\n",
       "      <td>...</td>\n",
       "      <td>0.0</td>\n",
       "      <td>0.0</td>\n",
       "      <td>0.0</td>\n",
       "      <td>0.0</td>\n",
       "      <td>0.0</td>\n",
       "      <td>0.0</td>\n",
       "      <td>0.0</td>\n",
       "      <td>0.0</td>\n",
       "      <td>0.0</td>\n",
       "      <td>0.0</td>\n",
       "    </tr>\n",
       "    <tr>\n",
       "      <th>Bolivia</th>\n",
       "      <td>0.0</td>\n",
       "      <td>0.0</td>\n",
       "      <td>0.0</td>\n",
       "      <td>0.0</td>\n",
       "      <td>0.0</td>\n",
       "      <td>0.0</td>\n",
       "      <td>0.0</td>\n",
       "      <td>1.0</td>\n",
       "      <td>0.0</td>\n",
       "      <td>0.0</td>\n",
       "      <td>...</td>\n",
       "      <td>0.0</td>\n",
       "      <td>0.0</td>\n",
       "      <td>0.0</td>\n",
       "      <td>0.0</td>\n",
       "      <td>0.0</td>\n",
       "      <td>0.0</td>\n",
       "      <td>0.0</td>\n",
       "      <td>0.0</td>\n",
       "      <td>0.0</td>\n",
       "      <td>0.0</td>\n",
       "    </tr>\n",
       "  </tbody>\n",
       "</table>\n",
       "<p>5 rows × 2139 columns</p>\n",
       "</div>"
      ],
      "text/plain": [
       "           0     1     2     3     4     5     6     7     8     9     ...  \\\n",
       "Country                                                                ...   \n",
       "Argentina   0.0   0.0   0.0   0.0   0.0   0.0   0.0   1.0   0.0   0.0  ...   \n",
       "Australia   0.0   0.0   0.0   0.0   0.0   0.0   0.0   0.0   1.0   0.0  ...   \n",
       "Austria     0.0   0.0   1.0   0.0   0.0   0.0   0.0   0.0   0.0   0.0  ...   \n",
       "Belgium     0.0   0.0   0.0   0.0   0.0   0.0   0.0   0.0   0.0   0.0  ...   \n",
       "Bolivia     0.0   0.0   0.0   0.0   0.0   0.0   0.0   1.0   0.0   0.0  ...   \n",
       "\n",
       "           2129  2130  2131  2132  2133  2134  2135  2136  2137  2138  \n",
       "Country                                                                \n",
       "Argentina   0.0   0.0   0.0   0.0   0.0   0.0   0.0   0.0   0.0   0.0  \n",
       "Australia   0.0   0.0   0.0   0.0   0.0   0.0   0.0   0.0   0.0   0.0  \n",
       "Austria     0.0   0.0   0.0   0.0   0.0   0.0   0.0   0.0   0.0   0.0  \n",
       "Belgium     0.0   0.0   0.0   0.0   0.0   0.0   0.0   0.0   0.0   0.0  \n",
       "Bolivia     0.0   0.0   0.0   0.0   0.0   0.0   0.0   0.0   0.0   0.0  \n",
       "\n",
       "[5 rows x 2139 columns]"
      ]
     },
     "execution_count": 17,
     "metadata": {},
     "output_type": "execute_result"
    }
   ],
   "source": [
    "df_ohe.head()"
   ]
  },
  {
   "cell_type": "code",
   "execution_count": 36,
   "metadata": {
    "collapsed": true
   },
   "outputs": [
    {
     "data": {
      "text/plain": [
       "array([[11.34258881,  7.11182993, 11.103209  , 10.26294914, 11.82433147],\n",
       "       [ 6.6490508 , 11.65453238,  9.63230242,  9.92865172,  8.77707451],\n",
       "       [ 7.17935999, 11.76129776, 10.29714766,  9.86550176,  8.81497043],\n",
       "       [ 6.19039479, 11.42160781,  9.5279195 ,  9.38499467,  7.7983854 ],\n",
       "       [11.19468569,  5.50709769, 10.91014436, 10.12808595, 11.60619247],\n",
       "       [11.20460664, 11.97197248, 10.88720579,  9.21021851, 11.70628195],\n",
       "       [ 7.17935999, 11.62768786,  9.81230095,  9.8401283 ,  8.5591623 ],\n",
       "       [11.36216377,  6.79728806, 11.29297348, 10.27512165, 11.98301267],\n",
       "       [11.21947161,  6.43841013, 10.94446207, 10.07859737, 11.71102678],\n",
       "       [10.28423221,  6.58241027, 10.3092798 ,  9.77640655, 10.98652373],\n",
       "       [ 7.48248985, 11.56300675,  9.24831066,  9.76361229,  8.5591623 ],\n",
       "       [ 7.85909868, 12.01886538, 10.34559085, 10.25076217,  9.43594389],\n",
       "       [11.23926099,  7.3961561 , 11.1144613 , 10.35992881, 11.78668426],\n",
       "       [11.25901559,  6.08918098, 11.12570223, 10.21411401, 11.73945547],\n",
       "       [10.7076758 ,  5.41554476, 10.73691064, 10.09099227, 11.16708125],\n",
       "       [ 8.16420976, 11.62768786, 10.27284041, 10.06618721,  6.08580619],\n",
       "       [ 9.14019747, 12.07075495, 11.06938345, 10.39606296, 10.04065809],\n",
       "       [11.17978776, 12.18926269, 11.54474989,  9.35831849, 11.47622341],\n",
       "       [ 8.02696074, 11.74002236, 10.78337841,  9.8401283 ,  9.45946518],\n",
       "       [ 8.25219761, 11.87763129, 10.16273831, 10.22634465,  6.67776853],\n",
       "       [10.86221222,  5.46151307, 10.66682943,  9.95379953, 11.46169143],\n",
       "       [10.67129529,  6.43841013, 10.7949641 ,  9.95379953, 11.07717038],\n",
       "       [10.71286293, 11.7984374 ,  7.90767033, 10.07859737, 11.43743043],\n",
       "       [ 7.94347313, 11.61693268,  9.96399769,  9.78918408,  7.44858923],\n",
       "       [ 9.33862284, 11.95107213, 10.96728088, 10.47989146,  8.64955576],\n",
       "       [10.78006849, 11.77722909,  8.26324694, 10.16504427, 11.5148857 ],\n",
       "       [ 6.85475414, 11.65989387, 10.1134193 , 10.06618721,  8.84014412],\n",
       "       [ 9.39201132, 11.78783801, 10.53713671, 10.51561339,  8.0369517 ],\n",
       "       [10.85197826, 11.68666441, 11.01277667,  9.03206095, 11.447141  ],\n",
       "       [11.26887991, 12.01886538, 10.3817749 ,  9.11472024, 11.86654182],\n",
       "       [ 8.35257039, 11.93013516, 10.50148799, 10.32366819,  6.3010875 ],\n",
       "       [ 8.36586244, 11.69735547, 10.3092798 , 10.07859737,  6.04918115],\n",
       "       [ 9.27295284, 10.99786911,  9.7483973 ,  7.02339839, 10.62666109],\n",
       "       [ 9.35051329, 11.58460724,  6.71053277,  9.96634963, 10.11782439],\n",
       "       [10.04373154, 11.57381203, 10.48957816,  7.79923874, 11.33006489],\n",
       "       [11.07995632,  7.70247525, 11.12570223, 10.26294914, 11.48106331],\n",
       "       [ 8.0958761 , 11.82489429, 10.41783327, 10.10337196,  9.36502556],\n",
       "       [ 6.89515844, 11.66525289,  9.67115557, 10.01639281,  8.87777082],\n",
       "       [11.66137446, 10.79713504, 11.37019129,  9.08725068, 12.21717067],\n",
       "       [ 7.75233935, 11.90391217, 10.3092798 , 10.18960868,  9.37688253],\n",
       "       [11.06992366,  6.23122179, 11.14815007, 10.14042036, 11.55822619],\n",
       "       [11.30333721,  6.51560626, 11.05808528, 10.21411401, 11.8712226 ],\n",
       "       [11.62797818,  6.5633928 , 11.22636406, 10.50371958, 11.96445352],\n",
       "       [11.14993218, 11.96675081,  8.69087165, 10.47989146, 11.71576968],\n",
       "       [ 9.10365549, 11.91965289, 10.94446207, 10.12808595, 10.1068367 ],\n",
       "       [ 7.67310519, 11.27289337, 10.07627163,  9.6477005 ,  8.95254981],\n",
       "       [ 8.67876648, 11.86183481, 10.36972758, 10.51561339,  6.40601569],\n",
       "       [ 9.6372477 , 11.61155136,  6.42504864,  9.87816405, 10.4527154 ],\n",
       "       [ 8.17101169, 11.77192104,  9.98905651, 10.21411401,  6.23015368],\n",
       "       [10.97921718,  7.99706978, 10.95587742, 10.00390549, 11.39363045],\n",
       "       [ 7.51213011, 11.77722909, 10.35766624,  9.92865172,  9.47120392],\n",
       "       [ 6.60714167, 11.43254674, 10.02652732,  9.49094964,  8.13315118],\n",
       "       [10.76975647, 11.78783801,  8.12596148, 10.12808595, 11.524531  ],\n",
       "       [10.78006849, 11.93537285,  8.58960127, 10.35992881, 11.06211419],\n",
       "       [11.488588  , 12.19438908, 11.39215739,  9.3047367 , 11.86654182],\n",
       "       [ 7.43033489, 11.75066487, 10.47765479, 10.28727977,  9.06356156],\n",
       "       [ 8.34591643, 11.97197248, 10.59628473, 10.26294914,  9.42416123],\n",
       "       [11.4352714 ,  6.69538087, 11.12570223, 10.25076217, 11.89926857],\n",
       "       [10.08237675, 11.84601726,  7.95495129, 10.14042036,  9.99629561]])"
      ]
     },
     "execution_count": 36,
     "metadata": {},
     "output_type": "execute_result"
    }
   ],
   "source": [
    "from sklearn.cluster import KMeans\n",
    "kmeans = KMeans(n_clusters = 5, n_init=1000, random_state = 0)\n",
    "kmeans.fit_transform(df_ohe)"
   ]
  },
  {
   "cell_type": "code",
   "execution_count": 37,
   "metadata": {},
   "outputs": [],
   "source": [
    "kmeans_cluster_assignments = kmeans.labels_"
   ]
  },
  {
   "cell_type": "code",
   "execution_count": 38,
   "metadata": {},
   "outputs": [],
   "source": [
    "df_ohe['Cluster'] = kmeans_cluster_assignments"
   ]
  },
  {
   "cell_type": "code",
   "execution_count": 39,
   "metadata": {},
   "outputs": [
    {
     "data": {
      "text/plain": [
       "0    18\n",
       "1    16\n",
       "4     9\n",
       "3     8\n",
       "2     8\n",
       "Name: Cluster, dtype: int64"
      ]
     },
     "execution_count": 39,
     "metadata": {},
     "output_type": "execute_result"
    }
   ],
   "source": [
    "df_ohe['Cluster'].value_counts()"
   ]
  },
  {
   "cell_type": "code",
   "execution_count": 40,
   "metadata": {},
   "outputs": [
    {
     "data": {
      "text/plain": [
       "Index(['Australia', 'Austria', 'Belgium', 'Canada', 'Czechia', 'Denmark',\n",
       "       'Finland', 'Gernmany', 'Ireland', 'Netherlands', 'New Zealand',\n",
       "       'Norway', 'Poland', 'Portugal', 'Sweden', 'Switzerland',\n",
       "       'United Kingdom', 'United States'],\n",
       "      dtype='object', name='Country')"
      ]
     },
     "execution_count": 40,
     "metadata": {},
     "output_type": "execute_result"
    }
   ],
   "source": [
    "df_ohe.groupby('Cluster').get_group(0).index"
   ]
  },
  {
   "cell_type": "code",
   "execution_count": 41,
   "metadata": {},
   "outputs": [
    {
     "data": {
      "text/plain": [
       "Index(['Argentina', 'Bolivia', 'Chile', 'Colombia', 'Costa Rica',\n",
       "       'Dominican Republic', 'Ecuador', 'El Salvador', 'Guatemala', 'Honduras',\n",
       "       'Mexico', 'Panama', 'Paraguay', 'Peru', 'Spain', 'Uruguay'],\n",
       "      dtype='object', name='Country')"
      ]
     },
     "execution_count": 41,
     "metadata": {},
     "output_type": "execute_result"
    }
   ],
   "source": [
    "df_ohe.groupby('Cluster').get_group(1).index"
   ]
  },
  {
   "cell_type": "code",
   "execution_count": 42,
   "metadata": {},
   "outputs": [
    {
     "data": {
      "text/plain": [
       "Index(['HongKong', 'Indonesia', 'Malaysia', 'Philippines', 'Singapore',\n",
       "       'Taiwan', 'Thailand', 'Vietnam'],\n",
       "      dtype='object', name='Country')"
      ]
     },
     "execution_count": 42,
     "metadata": {},
     "output_type": "execute_result"
    }
   ],
   "source": [
    "df_ohe.groupby('Cluster').get_group(2).index"
   ]
  },
  {
   "cell_type": "code",
   "execution_count": 43,
   "metadata": {},
   "outputs": [
    {
     "data": {
      "text/plain": [
       "Index(['Brazil', 'France', 'Italy', 'Japan', 'Luxembourg', 'Malta',\n",
       "       'Nicaragua', 'Turkey'],\n",
       "      dtype='object', name='Country')"
      ]
     },
     "execution_count": 43,
     "metadata": {},
     "output_type": "execute_result"
    }
   ],
   "source": [
    "df_ohe.groupby('Cluster').get_group(3).index"
   ]
  },
  {
   "cell_type": "code",
   "execution_count": 44,
   "metadata": {},
   "outputs": [
    {
     "data": {
      "text/plain": [
       "Index(['Estonia', 'Greece', 'Hungary', 'Iceland', 'Israel', 'Latvia',\n",
       "       'Lithuania', 'Romania', 'Slovakia'],\n",
       "      dtype='object', name='Country')"
      ]
     },
     "execution_count": 44,
     "metadata": {},
     "output_type": "execute_result"
    }
   ],
   "source": [
    "df_ohe.groupby('Cluster').get_group(4).index"
   ]
  },
  {
   "cell_type": "code",
   "execution_count": null,
   "metadata": {},
   "outputs": [],
   "source": []
  },
  {
   "cell_type": "code",
   "execution_count": 19,
   "metadata": {
    "collapsed": true
   },
   "outputs": [
    {
     "ename": "KeyboardInterrupt",
     "evalue": "",
     "output_type": "error",
     "traceback": [
      "\u001b[0;31m---------------------------------------------------------------------------\u001b[0m",
      "\u001b[0;31mKeyboardInterrupt\u001b[0m                         Traceback (most recent call last)",
      "\u001b[0;32m<ipython-input-19-4e1ea79a4424>\u001b[0m in \u001b[0;36m<module>\u001b[0;34m\u001b[0m\n\u001b[1;32m     10\u001b[0m \u001b[0;32mfor\u001b[0m \u001b[0mk\u001b[0m \u001b[0;32min\u001b[0m \u001b[0mrange\u001b[0m\u001b[0;34m(\u001b[0m\u001b[0;36m2\u001b[0m\u001b[0;34m,\u001b[0m \u001b[0;36m6\u001b[0m\u001b[0;34m)\u001b[0m\u001b[0;34m:\u001b[0m\u001b[0;34m\u001b[0m\u001b[0;34m\u001b[0m\u001b[0m\n\u001b[1;32m     11\u001b[0m     \u001b[0mcandidate_gmm\u001b[0m \u001b[0;34m=\u001b[0m \u001b[0mGaussianMixture\u001b[0m\u001b[0;34m(\u001b[0m\u001b[0mn_components\u001b[0m\u001b[0;34m=\u001b[0m\u001b[0mk\u001b[0m\u001b[0;34m,\u001b[0m \u001b[0mn_init\u001b[0m\u001b[0;34m=\u001b[0m\u001b[0;36m100\u001b[0m\u001b[0;34m,\u001b[0m \u001b[0mrandom_state\u001b[0m\u001b[0;34m=\u001b[0m\u001b[0;36m0\u001b[0m\u001b[0;34m)\u001b[0m\u001b[0;34m\u001b[0m\u001b[0;34m\u001b[0m\u001b[0m\n\u001b[0;32m---> 12\u001b[0;31m     \u001b[0mcandidate_gmm\u001b[0m\u001b[0;34m.\u001b[0m\u001b[0mfit\u001b[0m\u001b[0;34m(\u001b[0m\u001b[0mdf_ohe\u001b[0m\u001b[0;34m)\u001b[0m\u001b[0;34m\u001b[0m\u001b[0;34m\u001b[0m\u001b[0m\n\u001b[0m\u001b[1;32m     13\u001b[0m     \u001b[0mcluster_assignments\u001b[0m \u001b[0;34m=\u001b[0m \u001b[0mcandidate_gmm\u001b[0m\u001b[0;34m.\u001b[0m\u001b[0mpredict\u001b[0m\u001b[0;34m(\u001b[0m\u001b[0mdf_ohe\u001b[0m\u001b[0;34m)\u001b[0m\u001b[0;34m\u001b[0m\u001b[0;34m\u001b[0m\u001b[0m\n\u001b[1;32m     14\u001b[0m     \u001b[0mscore\u001b[0m \u001b[0;34m=\u001b[0m \u001b[0mcalinski_harabasz_score\u001b[0m\u001b[0;34m(\u001b[0m\u001b[0mdf_ohe\u001b[0m\u001b[0;34m,\u001b[0m \u001b[0mcluster_assignments\u001b[0m\u001b[0;34m)\u001b[0m\u001b[0;34m\u001b[0m\u001b[0;34m\u001b[0m\u001b[0m\n",
      "\u001b[0;32m~/anaconda3/lib/python3.7/site-packages/sklearn/mixture/_base.py\u001b[0m in \u001b[0;36mfit\u001b[0;34m(self, X, y)\u001b[0m\n\u001b[1;32m    190\u001b[0m         \u001b[0mself\u001b[0m\u001b[0;34m\u001b[0m\u001b[0;34m\u001b[0m\u001b[0m\n\u001b[1;32m    191\u001b[0m         \"\"\"\n\u001b[0;32m--> 192\u001b[0;31m         \u001b[0mself\u001b[0m\u001b[0;34m.\u001b[0m\u001b[0mfit_predict\u001b[0m\u001b[0;34m(\u001b[0m\u001b[0mX\u001b[0m\u001b[0;34m,\u001b[0m \u001b[0my\u001b[0m\u001b[0;34m)\u001b[0m\u001b[0;34m\u001b[0m\u001b[0;34m\u001b[0m\u001b[0m\n\u001b[0m\u001b[1;32m    193\u001b[0m         \u001b[0;32mreturn\u001b[0m \u001b[0mself\u001b[0m\u001b[0;34m\u001b[0m\u001b[0;34m\u001b[0m\u001b[0m\n\u001b[1;32m    194\u001b[0m \u001b[0;34m\u001b[0m\u001b[0m\n",
      "\u001b[0;32m~/anaconda3/lib/python3.7/site-packages/sklearn/mixture/_base.py\u001b[0m in \u001b[0;36mfit_predict\u001b[0;34m(self, X, y)\u001b[0m\n\u001b[1;32m    242\u001b[0m \u001b[0;34m\u001b[0m\u001b[0m\n\u001b[1;32m    243\u001b[0m                 \u001b[0mlog_prob_norm\u001b[0m\u001b[0;34m,\u001b[0m \u001b[0mlog_resp\u001b[0m \u001b[0;34m=\u001b[0m \u001b[0mself\u001b[0m\u001b[0;34m.\u001b[0m\u001b[0m_e_step\u001b[0m\u001b[0;34m(\u001b[0m\u001b[0mX\u001b[0m\u001b[0;34m)\u001b[0m\u001b[0;34m\u001b[0m\u001b[0;34m\u001b[0m\u001b[0m\n\u001b[0;32m--> 244\u001b[0;31m                 \u001b[0mself\u001b[0m\u001b[0;34m.\u001b[0m\u001b[0m_m_step\u001b[0m\u001b[0;34m(\u001b[0m\u001b[0mX\u001b[0m\u001b[0;34m,\u001b[0m \u001b[0mlog_resp\u001b[0m\u001b[0;34m)\u001b[0m\u001b[0;34m\u001b[0m\u001b[0;34m\u001b[0m\u001b[0m\n\u001b[0m\u001b[1;32m    245\u001b[0m                 lower_bound = self._compute_lower_bound(\n\u001b[1;32m    246\u001b[0m                     log_resp, log_prob_norm)\n",
      "\u001b[0;32m~/anaconda3/lib/python3.7/site-packages/sklearn/mixture/_gaussian_mixture.py\u001b[0m in \u001b[0;36m_m_step\u001b[0;34m(self, X, log_resp)\u001b[0m\n\u001b[1;32m    675\u001b[0m         \u001b[0mself\u001b[0m\u001b[0;34m.\u001b[0m\u001b[0mweights_\u001b[0m \u001b[0;34m/=\u001b[0m \u001b[0mn_samples\u001b[0m\u001b[0;34m\u001b[0m\u001b[0;34m\u001b[0m\u001b[0m\n\u001b[1;32m    676\u001b[0m         self.precisions_cholesky_ = _compute_precision_cholesky(\n\u001b[0;32m--> 677\u001b[0;31m             self.covariances_, self.covariance_type)\n\u001b[0m\u001b[1;32m    678\u001b[0m \u001b[0;34m\u001b[0m\u001b[0m\n\u001b[1;32m    679\u001b[0m     \u001b[0;32mdef\u001b[0m \u001b[0m_estimate_log_prob\u001b[0m\u001b[0;34m(\u001b[0m\u001b[0mself\u001b[0m\u001b[0;34m,\u001b[0m \u001b[0mX\u001b[0m\u001b[0;34m)\u001b[0m\u001b[0;34m:\u001b[0m\u001b[0;34m\u001b[0m\u001b[0;34m\u001b[0m\u001b[0m\n",
      "\u001b[0;32m~/anaconda3/lib/python3.7/site-packages/sklearn/mixture/_gaussian_mixture.py\u001b[0m in \u001b[0;36m_compute_precision_cholesky\u001b[0;34m(covariances, covariance_type)\u001b[0m\n\u001b[1;32m    320\u001b[0m             precisions_chol[k] = linalg.solve_triangular(cov_chol,\n\u001b[1;32m    321\u001b[0m                                                          \u001b[0mnp\u001b[0m\u001b[0;34m.\u001b[0m\u001b[0meye\u001b[0m\u001b[0;34m(\u001b[0m\u001b[0mn_features\u001b[0m\u001b[0;34m)\u001b[0m\u001b[0;34m,\u001b[0m\u001b[0;34m\u001b[0m\u001b[0;34m\u001b[0m\u001b[0m\n\u001b[0;32m--> 322\u001b[0;31m                                                          lower=True).T\n\u001b[0m\u001b[1;32m    323\u001b[0m     \u001b[0;32melif\u001b[0m \u001b[0mcovariance_type\u001b[0m \u001b[0;34m==\u001b[0m \u001b[0;34m'tied'\u001b[0m\u001b[0;34m:\u001b[0m\u001b[0;34m\u001b[0m\u001b[0;34m\u001b[0m\u001b[0m\n\u001b[1;32m    324\u001b[0m         \u001b[0m_\u001b[0m\u001b[0;34m,\u001b[0m \u001b[0mn_features\u001b[0m \u001b[0;34m=\u001b[0m \u001b[0mcovariances\u001b[0m\u001b[0;34m.\u001b[0m\u001b[0mshape\u001b[0m\u001b[0;34m\u001b[0m\u001b[0;34m\u001b[0m\u001b[0m\n",
      "\u001b[0;32m~/anaconda3/lib/python3.7/site-packages/scipy/linalg/basic.py\u001b[0m in \u001b[0;36msolve_triangular\u001b[0;34m(a, b, trans, lower, unit_diagonal, overwrite_b, debug, check_finite)\u001b[0m\n\u001b[1;32m    346\u001b[0m     \u001b[0;32mif\u001b[0m \u001b[0ma1\u001b[0m\u001b[0;34m.\u001b[0m\u001b[0mflags\u001b[0m\u001b[0;34m.\u001b[0m\u001b[0mf_contiguous\u001b[0m \u001b[0;32mor\u001b[0m \u001b[0mtrans\u001b[0m \u001b[0;34m==\u001b[0m \u001b[0;36m2\u001b[0m\u001b[0;34m:\u001b[0m\u001b[0;34m\u001b[0m\u001b[0;34m\u001b[0m\u001b[0m\n\u001b[1;32m    347\u001b[0m         x, info = trtrs(a1, b1, overwrite_b=overwrite_b, lower=lower,\n\u001b[0;32m--> 348\u001b[0;31m                         trans=trans, unitdiag=unit_diagonal)\n\u001b[0m\u001b[1;32m    349\u001b[0m     \u001b[0;32melse\u001b[0m\u001b[0;34m:\u001b[0m\u001b[0;34m\u001b[0m\u001b[0;34m\u001b[0m\u001b[0m\n\u001b[1;32m    350\u001b[0m         \u001b[0;31m# transposed system is solved since trtrs expects Fortran ordering\u001b[0m\u001b[0;34m\u001b[0m\u001b[0;34m\u001b[0m\u001b[0;34m\u001b[0m\u001b[0m\n",
      "\u001b[0;31mKeyboardInterrupt\u001b[0m: "
     ]
    }
   ],
   "source": [
    "# clustering\n",
    "from sklearn.metrics import calinski_harabasz_score\n",
    "from sklearn.mixture import GaussianMixture\n",
    "\n",
    "best_score = -np.inf\n",
    "best_k = None\n",
    "best_model = None\n",
    "best_cluster_assignments = None\n",
    "\n",
    "for k in range(2, 6):\n",
    "    candidate_gmm = GaussianMixture(n_components=k, n_init=100, random_state=0)\n",
    "    candidate_gmm.fit(df_ohe)\n",
    "    cluster_assignments = candidate_gmm.predict(df_ohe)\n",
    "    score = calinski_harabasz_score(df_ohe, cluster_assignments)\n",
    "    \n",
    "    print('k =', k, 'has CH index', score)\n",
    "    \n",
    "    if score > best_score:\n",
    "        best_score = score\n",
    "        best_k = k\n",
    "        best_model = candidate_gmm\n",
    "        best_cluster_assignments = cluster_assignments\n",
    "    \n",
    "print('Best k within 2, 3, ..., 6 according to CH index:', best_k)"
   ]
  },
  {
   "cell_type": "code",
   "execution_count": null,
   "metadata": {},
   "outputs": [],
   "source": []
  }
 ],
 "metadata": {
  "kernelspec": {
   "display_name": "Python 3",
   "language": "python",
   "name": "python3"
  },
  "language_info": {
   "codemirror_mode": {
    "name": "ipython",
    "version": 3
   },
   "file_extension": ".py",
   "mimetype": "text/x-python",
   "name": "python",
   "nbconvert_exporter": "python",
   "pygments_lexer": "ipython3",
   "version": "3.7.6"
  }
 },
 "nbformat": 4,
 "nbformat_minor": 4
}
